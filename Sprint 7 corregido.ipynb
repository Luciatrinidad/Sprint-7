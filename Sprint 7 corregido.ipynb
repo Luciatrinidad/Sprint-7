{
 "cells": [
  {
   "cell_type": "markdown",
   "metadata": {},
   "source": [
    "# Sprint 7\n",
    "Lucía Fernández Gagliano"
   ]
  },
  {
   "cell_type": "markdown",
   "metadata": {},
   "source": [
    "# NIVELL 1\n"
   ]
  },
  {
   "cell_type": "markdown",
   "metadata": {},
   "source": [
    "Resoldràs alguns problemes de la vida quotidiana aplicant les estructures de dades i control en Python.\n",
    "\n",
    "Un client de l'empresa en la qual treballes demana una llista de programes molt senzills, però que li facilitarien molts processos. No obstant això, el departament de TU està molt complicat amb el temps, per la qual cosa et demanen que facis la programació."
   ]
  },
  {
   "cell_type": "markdown",
   "metadata": {},
   "source": [
    "- Exercici 1\n",
    "Calculadora de l'índex de massa corporal\n",
    "\n",
    "Escriu una funció que calculi l'IMC ingressat per l'usuari/ària, és a dir, qui ho executi haurà d'ingressar aquestes dades. Pots obtenir més informació del seu càlcul en:\n",
    "\n",
    "-> Índice de masa corporal IMC que es y como se calcula.\n",
    "\n",
    "La funció ha de classificar el resultat en les seves respectives categories"
   ]
  },
  {
   "cell_type": "markdown",
   "metadata": {},
   "source": [
    "Para calcular el IMC es necesario dividir el peso en kg de un paciente entre el cuadrado de su altura en metros. "
   ]
  },
  {
   "cell_type": "markdown",
   "metadata": {},
   "source": [
    "<span style=\"color:orange\">versión previa:</span>"
   ]
  },
  {
   "cell_type": "code",
   "execution_count": 1,
   "metadata": {},
   "outputs": [
    {
     "name": "stdout",
     "output_type": "stream",
     "text": [
      "Peso Normal\n"
     ]
    },
    {
     "data": {
      "text/plain": [
       "21.928862769176792"
      ]
     },
     "execution_count": 1,
     "metadata": {},
     "output_type": "execute_result"
    }
   ],
   "source": [
    "def IMC():\n",
    "    \n",
    "    try:\n",
    "        peso = float(input('¿Cuánto pesas? '))\n",
    "        altura = float(input('Dime tu altura en metros: '))  \n",
    "        \n",
    "    except (ValueError, TypeError):\n",
    "        print('el valor indicado no es correcto. Recuerda que debes introducir números y la altura en metros')\n",
    "    \n",
    "    else:\n",
    "            \n",
    "        IMCcalc = peso / (altura * altura)\n",
    "        if IMCcalc < 18.5:\n",
    "            print('Bajo Peso')\n",
    "        elif IMCcalc < 25:\n",
    "            print('Peso Normal')\n",
    "        elif IMCcalc < 30:\n",
    "            print('Sobrepeso')\n",
    "        else:\n",
    "            print('Obesidad')\n",
    "    \n",
    "    return IMCcalc\n",
    "\n",
    "IMC() \n"
   ]
  },
  {
   "cell_type": "markdown",
   "metadata": {},
   "source": [
    "<span style=\"color:orange\">versión corregida: </span>"
   ]
  },
  {
   "cell_type": "code",
   "execution_count": 2,
   "metadata": {},
   "outputs": [
    {
     "name": "stdout",
     "output_type": "stream",
     "text": [
      "Tu IMC es 27.78. Categoría: Sobrepeso\n"
     ]
    },
    {
     "data": {
      "text/plain": [
       "27.777777777777775"
      ]
     },
     "execution_count": 2,
     "metadata": {},
     "output_type": "execute_result"
    }
   ],
   "source": [
    "def Pedir_pesoaltura():\n",
    "    try:\n",
    "        peso = float(input('¿Cuánto pesas? (kg) '))\n",
    "        altura = float(input('Dime tu altura en metros: '))\n",
    "\n",
    "        if peso <= 0 or altura <= 0:\n",
    "            print(\"Error: El peso y la altura deben ser valores positivos.\")\n",
    "            return None, None  \n",
    "\n",
    "        return peso, altura \n",
    "\n",
    "    except (ValueError, TypeError):\n",
    "        print('Error: Ingresa solo números. La altura debe estar en metros.')\n",
    "        return None, None \n",
    "\n",
    "\n",
    "def IMC():\n",
    "    peso, altura = Pedir_pesoaltura()  \n",
    "\n",
    "    if peso is None or altura is None:  \n",
    "        print(\"No se pudo calcular el IMC debido a valores incorrectos.\")\n",
    "        return None\n",
    "\n",
    "    IMCcalc = peso / (altura ** 2) #altura al cuadrado  \n",
    "\n",
    "    if IMCcalc < 18.5:\n",
    "        categoria = 'Bajo Peso'\n",
    "    elif IMCcalc < 25:\n",
    "        categoria = 'Peso Normal'\n",
    "    elif IMCcalc < 30:\n",
    "        categoria = 'Sobrepeso'\n",
    "    else:\n",
    "        categoria = 'Obesidad'\n",
    "\n",
    "    print(f'Tu IMC es {IMCcalc:.2f}. Categoría: {categoria}')\n",
    "    return IMCcalc\n",
    "\n",
    "\n",
    "IMC()\n"
   ]
  },
  {
   "cell_type": "markdown",
   "metadata": {},
   "source": [
    "- Exercici 2\n",
    "Convertidor de temperatures.\n",
    "\n",
    "Existeixen diverses unitats de temperatura utilitzades en diferents contextos i regions. Les més comunes són Celsius (°C), Fahrenheit (°F) i Kelvin (K). També existeixen altres unitats com Rankine (°Ra) i Réaumur (°Re). Selecciona almenys 2 conversors, de tal manera que en introduir una temperatura retorni, com a mínim, dues conversions."
   ]
  },
  {
   "cell_type": "markdown",
   "metadata": {},
   "source": [
    "<span style=\"color:orange\">versión corregida: </span>"
   ]
  },
  {
   "cell_type": "code",
   "execution_count": 3,
   "metadata": {},
   "outputs": [
    {
     "name": "stdout",
     "output_type": "stream",
     "text": [
      "La temperatura es de:\n",
      "25 Celsius\n",
      "77.0 Farenheid\n",
      "298.1 Kelvin\n"
     ]
    }
   ],
   "source": [
    "\n",
    "def tempconverter():\n",
    "    \n",
    "    temp=int(input ('temperatura'))\n",
    "    unit=input('unidad de medida? escribe k para Kelvin, c para Celsius, f para FareFahrenheit')\n",
    "\n",
    "    print ('La temperatura es de:')\n",
    "    if unit == 'c':\n",
    "        F = round(temp * 1.8 + 32, 1)\n",
    "        K = round(temp + 273.15, 1)\n",
    "        print(temp, 'Celsius')\n",
    "        print(F, 'Farenheid')\n",
    "        print(K, 'Kelvin')\n",
    "    \n",
    "    elif unit == 'f':\n",
    "        C = round((temp -32) / 1.8, )\n",
    "        K = round((temp - 32) * 5/9 + 273.15, 1)\n",
    "        print(temp, 'Farenheid')\n",
    "        print(C, 'Celsius')\n",
    "        print(K, 'Kelvin')\n",
    "    \n",
    "    elif unit == 'k':\n",
    "        C = round(temp - 273.15, 1)\n",
    "        F = round(1.8 *(temp - 273.15) + 32, 1)\n",
    "        print(temp, 'Kelvin')\n",
    "        print(C, 'Celsius')\n",
    "        print(F, 'Farenheid')\n",
    "        \n",
    "    else:\n",
    "        print ('la unidad no es correcta')\n",
    "        \n",
    "tempconverter()   \n"
   ]
  },
  {
   "cell_type": "markdown",
   "metadata": {},
   "source": [
    "- Exercici 3\n",
    "\n",
    "Comptador de paraules d'un text.\n",
    "\n",
    "Escriu una funció que donat un text, mostri les vegades que apareix cada paraula."
   ]
  },
  {
   "cell_type": "code",
   "execution_count": 9,
   "metadata": {},
   "outputs": [],
   "source": [
    "import re"
   ]
  },
  {
   "cell_type": "code",
   "execution_count": 14,
   "metadata": {},
   "outputs": [
    {
     "data": {
      "text/plain": [
       "{'el': 6,\n",
       " 'sol': 2,\n",
       " 'brilla': 1,\n",
       " 'sobre': 1,\n",
       " 'mar,': 1,\n",
       " 'la': 7,\n",
       " 'arena': 3,\n",
       " 'está': 1,\n",
       " 'caliente.': 1,\n",
       " 'Las': 1,\n",
       " 'olas': 2,\n",
       " 'golpean': 1,\n",
       " 'orilla': 1,\n",
       " 'con': 1,\n",
       " 'calma.': 1,\n",
       " 'El': 2,\n",
       " 'viento': 2,\n",
       " 'mueve': 1,\n",
       " 'y': 3,\n",
       " 'mar': 2,\n",
       " 'refleja': 1,\n",
       " 'luz': 1,\n",
       " 'del': 1,\n",
       " 'sol.': 1,\n",
       " 'Una': 1,\n",
       " 'brisa': 2,\n",
       " 'suave': 1,\n",
       " 'refresca': 1,\n",
       " 'ambiente.': 1,\n",
       " 'sigue': 2,\n",
       " 'alto,': 1,\n",
       " 'azul': 1,\n",
       " 'las': 1,\n",
       " 'no': 1,\n",
       " 'cesan.': 1,\n",
       " 'La': 1,\n",
       " 'calma': 1,\n",
       " 'se': 1,\n",
       " 'mantiene': 1,\n",
       " 'mientras': 1,\n",
       " 'acaricia': 1,\n",
       " 'dispersa': 1}"
      ]
     },
     "execution_count": 14,
     "metadata": {},
     "output_type": "execute_result"
    }
   ],
   "source": [
    "texto = 'el sol brilla sobre el mar, la arena está caliente. Las olas golpean la orilla con calma. El viento mueve la arena y el mar refleja la luz del sol. Una brisa suave refresca el ambiente. El sol sigue alto, el mar sigue azul y las olas no cesan. La calma se mantiene mientras la brisa acaricia la arena y el viento la dispersa'\n",
    "\n",
    "def contador(texto):\n",
    "    palabras = re.findall(r'\\b\\w+\\b', texto.lower())    \n",
    "    palabras=texto.split()\n",
    "    contadorpalabras= {}\n",
    "    \n",
    "    for palabra in palabras:\n",
    "        if palabra in contadorpalabras:\n",
    "            contadorpalabras[palabra] += 1  \n",
    "        else:\n",
    "            contadorpalabras[palabra] = 1 \n",
    "        \n",
    "    return contadorpalabras\n",
    "\n",
    "contador(texto)"
   ]
  },
  {
   "cell_type": "markdown",
   "metadata": {},
   "source": [
    "- Exercici 4\n",
    "\n",
    "Diccionari invers.\n",
    "\n",
    "Resulta que el client té una enquesta molt antiga que s'emmagatzema en un diccionari i els resultats els necessita al revés, és a dir, intercanviats les claus i els valors. Els valors i claus en el diccionari original són únics; si aquest no és el cas, la funció hauria d'imprimir un missatge d'advertiment."
   ]
  },
  {
   "cell_type": "code",
   "execution_count": 17,
   "metadata": {},
   "outputs": [
    {
     "data": {
      "text/plain": [
       "\"Advertencia: El valor 'c' está repetido\""
      ]
     },
     "execution_count": 17,
     "metadata": {},
     "output_type": "execute_result"
    }
   ],
   "source": [
    "diccionario = {1: 'a', 2: 'b', 3: 'c', 4: 'c'}\n",
    "\n",
    "def invertir(diccionario: dict):\n",
    "    nuevo_diccionario = {}\n",
    "    \n",
    "    for clave, valor in diccionario.items():\n",
    "        if valor in nuevo_diccionario:\n",
    "            return f\"Advertencia: El valor '{valor}' está repetido\"\n",
    "            \n",
    "        else:\n",
    "            nuevo_diccionario[valor] = clave  \n",
    "\n",
    "    return nuevo_diccionario      \n",
    "\n",
    "invertir(diccionario)\n"
   ]
  },
  {
   "cell_type": "markdown",
   "metadata": {},
   "source": [
    "# NIVELL 2"
   ]
  },
  {
   "cell_type": "markdown",
   "metadata": {},
   "source": [
    "Exercici 1\n",
    "Diccionari invers amb duplicats\n",
    "\n",
    "Continuant amb l'exercici 4 del nivell 1: al client es va oblidar de comentar un detall i resulta que els valors en el diccionari original poden duplicar-se i més, per la qual cosa les claus intercanviades poden tenir duplicats. En aquest cas, en l'exercici anterior imprimies un missatge d'advertiment, ara, els valors del diccionari resultant hauran d'emmagatzemar-se com una llista. Tingues en compte que si és un valor únic no ha de ser una llista."
   ]
  },
  {
   "cell_type": "markdown",
   "metadata": {},
   "source": [
    "Continuando con el ejercicio 4 del nivel 1: al cliente se olvidó comentar un detalle y resulta que los valores en el diccionario original pueden duplicarse y más, por lo que las claves intercambiadas pueden tener duplicados. En este caso, en el ejercicio anterior imprimías un mensaje de advertencia, ahora, los valores del diccionario resultante tendrán que almacenarse como una lista. Ten en cuenta que si es un valor único no debe ser una lista.\n"
   ]
  },
  {
   "cell_type": "code",
   "execution_count": 28,
   "metadata": {},
   "outputs": [
    {
     "name": "stdout",
     "output_type": "stream",
     "text": [
      "{'a': 1, 'b': 2, 'c': [3, 4]}\n"
     ]
    }
   ],
   "source": [
    "def invertir_2(diccionario: dict):\n",
    "    nuevo_diccionario = {}  \n",
    "\n",
    "    for clave, valor in diccionario.items():\n",
    "        if valor in nuevo_diccionario:\n",
    "            if isinstance(nuevo_diccionario[valor], list):\n",
    "                nuevo_diccionario[valor].append(clave)                \n",
    "            else:\n",
    "                nuevo_diccionario[valor] = [nuevo_diccionario[valor], clave]\n",
    "        else:\n",
    "            nuevo_diccionario[valor] = clave  \n",
    "    \n",
    "    return nuevo_diccionario  \n",
    "\n",
    "diccionario = {1: 'a', 2: 'b', 3: 'c', 4: 'c'}\n",
    "print(invertir_2(diccionario))"
   ]
  },
  {
   "cell_type": "markdown",
   "metadata": {},
   "source": [
    "Exercici 2\n",
    "Conversió de tipus de dades\n",
    "\n",
    "El client rep una llista de dades i necessita generar dues llistes, la primera on estaran tots els elements que es van poder convertir en flotants i l'altra on estan els elements que no es van poder convertir. Exemple de la llista que rep el client: [ '1.3', 'one' , '1e10' , 'seven', '3-1/2', ('2',1,1.4,'not-a-number'), [1,2,'3','3.4']]"
   ]
  },
  {
   "cell_type": "code",
   "execution_count": 42,
   "metadata": {},
   "outputs": [],
   "source": [
    "Lista = ['1.3', 'one', '1e10', 'seven', '3-1/2', ('2', 1, 1.4, 'not-a-number'), [1, 2, '3', '3.4']]\n",
    "\n",
    "def flotar(Lista):\n",
    "    flotantes = []\n",
    "    no_flotantes = []\n",
    "\n",
    "    for x in Lista:\n",
    "        if isinstance(x, (list, tuple)):  # Si es una lista o tupla, recorrer sus elementos\n",
    "            for elemento in x:\n",
    "                try:\n",
    "                    flotantes.append(float(elemento))\n",
    "                except (ValueError, TypeError):\n",
    "                    no_flotantes.append(elemento)\n",
    "        else:  # Si no es lista ni tupla, intentar convertir directamente\n",
    "            try:\n",
    "                flotantes.append(float(x))\n",
    "            except (ValueError, TypeError):\n",
    "                no_flotantes.append(x)\n",
    "\n",
    "    return flotantes, no_flotantes\n",
    "\n",
    "def imprimir_flotar(Lista):\n",
    "    flotantes, no_flotantes = flotar(Lista)\n",
    "    print(\"Flotantes:\", flotantes)\n",
    "    print(\"No flotantes:\", no_flotantes)\n"
   ]
  },
  {
   "cell_type": "code",
   "execution_count": 45,
   "metadata": {},
   "outputs": [
    {
     "data": {
      "text/plain": [
       "([1.3, 10000000000.0, 2.0, 1.0, 1.4, 1.0, 2.0, 3.0, 3.4],\n",
       " ['one', 'seven', '3-1/2', 'not-a-number'])"
      ]
     },
     "execution_count": 45,
     "metadata": {},
     "output_type": "execute_result"
    }
   ],
   "source": [
    "flotar(Lista)"
   ]
  },
  {
   "cell_type": "code",
   "execution_count": 44,
   "metadata": {},
   "outputs": [
    {
     "name": "stdout",
     "output_type": "stream",
     "text": [
      "Flotantes: [1.3, 10000000000.0, 2.0, 1.0, 1.4, 1.0, 2.0, 3.0, 3.4]\n",
      "No flotantes: ['one', 'seven', '3-1/2', 'not-a-number']\n"
     ]
    }
   ],
   "source": [
    "imprimir_flotar(Lista)"
   ]
  },
  {
   "cell_type": "markdown",
   "metadata": {},
   "source": [
    "# Nivell 3\n"
   ]
  },
  {
   "cell_type": "markdown",
   "metadata": {},
   "source": [
    "Exercici 1\n",
    "Comptador i endreçador de paraules d'un text.\n",
    "\n",
    "El client va quedar content amb el comptador de paraules, però ara vol llegir arxius TXT i que calculi la freqüència de cada paraula ordenades dins de les entrades habituals del diccionari segons la lletra amb la qual comencen, és a dir, les claus han d'anar de la A a la Z i dins de la A hem d'anar de la A la Z. Per exemple, per a l'arxiu \"tu_me_quieres_blanca.txt\" la sortida esperada seria:"
   ]
  },
  {
   "cell_type": "code",
   "execution_count": null,
   "metadata": {},
   "outputs": [
    {
     "name": "stdout",
     "output_type": "stream",
     "text": [
      "{'a': {'a': 3, 'agua': 1, 'al': 2, 'alba': 4, 'alcobas': 1, 'alimenta': 1, 'alma': 1, 'amarga': 1, 'azucena': 1}, 'b': {'baco': 1, 'banquete': 1, 'bebe': 1, 'blanca': 3, 'boca': 1, 'bosques': 1, 'buen': 1}, 'c': {'cabañas': 1, 'carnes': 2, 'casta': 3, 'cerrada': 1, 'con': 4, 'conservas': 1, 'copas': 1, 'corola': 1, 'corriste': 1, 'cuando': 2, 'cubierto': 1, 'cuerpo': 1, 'cuáles': 1}, 'd': {'de': 8, 'dejaste': 1, 'del': 1, 'diga': 1, 'dios': 2, 'duerme': 1}, 'e': {'el': 4, 'ellas': 1, 'en': 4, 'engaño': 1, 'enredada': 1, 'entonces': 1, 'escarcha': 1, 'espumas': 1, 'esqueleto': 1, 'estrago': 1}, 'f': {'festejando': 1, 'filtrado': 1, 'frutos': 1}, 'h': {'habla': 1, 'hacia': 1, 'haya': 1, 'hayas': 1, 'hermana': 1, 'hombre': 1, 'hubiste': 1, 'huye': 1}, 'i': {'intacto': 1}, 'j': {'jardines': 1}, 'l': {'la': 3, 'labios': 1, 'las': 7, 'lo': 2, 'los': 4, 'luna': 1, 'lévate': 1, 'límpiate': 1}, 'm': {'mano': 1, 'manos': 1, 'margarita': 1, 'me': 10, 'mi': 1, 'mieles': 1, 'milagros': 1, 'mojada': 1, 'montaña': 1, 'morados': 1}, 'n': {'negros': 1, 'ni': 2, 'no': 1, 'nácar': 1, 'nívea': 2}, 'p': {'perdone': 2, 'perfume': 1, 'por': 2, 'pretendes': 3, 'preténdeme': 3, 'puesto': 1, 'pájaros': 1, 'pámpanos': 1}, 'q': {'que': 6, 'quedó': 1, 'quieres': 6}, 'r': {'rayo': 1, 'raíz': 1, 'renueva': 1, 'rocas': 1, 'rojo': 1}, 's': {'salitre': 1, 'se': 2, 'sea': 1, 'sean': 1, 'sobre': 2, 'sé': 1}, 't': {'te': 3, 'tejidos': 1, 'tenue': 1, 'tierra': 1, 'toca': 1, 'todas': 2, 'todavía': 1, 'tornadas': 1, 'tú': 8}, 'u': {'un': 1, 'una': 1}, 'v': {'vestido': 1, 'vete': 1, 'vive': 1}, 'y': {'y': 5}}\n"
     ]
    }
   ],
   "source": [
    "import re\n",
    "def read_file(path):\n",
    "    with open(path, \"r\", encoding=\"utf-8\") as arxiu:\n",
    "        text = arxiu.read()\n",
    "    return text\n",
    "\n",
    "def orden_alfabetico(contadorpalabras):\n",
    "    return {clave: contadorpalabras[clave] for clave in sorted(contadorpalabras)}\n",
    "\n",
    "def ordenfinal(paraules_ordenades):\n",
    "    \n",
    "    diccionario_letras = {}\n",
    "\n",
    "    for paraula, freq in paraules_ordenades.items():\n",
    "        inicial = paraula [0]\n",
    "        if inicial not in diccionario_letras:\n",
    "            diccionario_letras[inicial] = {}\n",
    "        diccionario_letras[inicial][paraula]=freq\n",
    "        \n",
    "    return dict(diccionario_letras)\n",
    "\n",
    "def ordenador_palabras(path):\n",
    "    text = read_file(path)\n",
    "    cuentaparole = contador(texto)\n",
    "    paraules_ordenades = orden_alfabetico(diccionari_paraules)\n",
    "    diccionario_final= ordenfinal(paraules_ordenades)\n",
    "        \n",
    "    print(diccionario_final)\n",
    "\n",
    "ordenador_palabras(\"tu_me_quieres_blanca.txt\")\n"
   ]
  }
 ],
 "metadata": {
  "kernelspec": {
   "display_name": "myenv",
   "language": "python",
   "name": "python3"
  },
  "language_info": {
   "codemirror_mode": {
    "name": "ipython",
    "version": 3
   },
   "file_extension": ".py",
   "mimetype": "text/x-python",
   "name": "python",
   "nbconvert_exporter": "python",
   "pygments_lexer": "ipython3",
   "version": "3.10.13"
  }
 },
 "nbformat": 4,
 "nbformat_minor": 2
}
